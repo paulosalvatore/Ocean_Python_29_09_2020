{
  "nbformat": 4,
  "nbformat_minor": 0,
  "metadata": {
    "colab": {
      "name": "Ocean_Python_29_09_2020.ipynb",
      "provenance": [],
      "collapsed_sections": [],
      "authorship_tag": "ABX9TyMARWNuiamRwkIIvNzjEcLg",
      "include_colab_link": true
    },
    "kernelspec": {
      "name": "python3",
      "display_name": "Python 3"
    }
  },
  "cells": [
    {
      "cell_type": "markdown",
      "metadata": {
        "id": "view-in-github",
        "colab_type": "text"
      },
      "source": [
        "<a href=\"https://colab.research.google.com/github/paulosalvatore/Ocean_Python_29_09_2020/blob/master/Ocean_Python_29_09_2020.ipynb\" target=\"_parent\"><img src=\"https://colab.research.google.com/assets/colab-badge.svg\" alt=\"Open In Colab\"/></a>"
      ]
    },
    {
      "cell_type": "code",
      "metadata": {
        "id": "ga15tV973FOS",
        "outputId": "6e5437bf-807e-4313-896b-e8e653e09da7",
        "colab": {
          "base_uri": "https://localhost:8080/",
          "height": 34
        }
      },
      "source": [
        "administrador = True # Boolean - booleano - bool\n",
        "\n",
        "print(administrador)"
      ],
      "execution_count": 2,
      "outputs": [
        {
          "output_type": "stream",
          "text": [
            "True\n"
          ],
          "name": "stdout"
        }
      ]
    },
    {
      "cell_type": "code",
      "metadata": {
        "id": "bYM-ac9_5cf4"
      },
      "source": [
        "# Comparação - Igual\n",
        "\n",
        "comparacao_igual = 1 == 1\n",
        "\n",
        "print(comparacao_igual)\n",
        "\n",
        "print(1 == 1)"
      ],
      "execution_count": 4,
      "outputs": []
    },
    {
      "cell_type": "code",
      "metadata": {
        "id": "4oy1_z6G5uKe",
        "outputId": "9e755c87-2f55-4000-cb02-c4708700438d",
        "colab": {
          "base_uri": "https://localhost:8080/",
          "height": 34
        }
      },
      "source": [
        "# Comparação - Diferente\n",
        "\n",
        "comparacao_diferente = 1 != 1\n",
        "\n",
        "print(comparacao_diferente)"
      ],
      "execution_count": 7,
      "outputs": [
        {
          "output_type": "stream",
          "text": [
            "False\n"
          ],
          "name": "stdout"
        }
      ]
    },
    {
      "cell_type": "code",
      "metadata": {
        "id": "gJkVOgNP58AF",
        "outputId": "6f5cccb7-4fe8-4a45-93b7-98ffee76811a",
        "colab": {
          "base_uri": "https://localhost:8080/",
          "height": 122
        }
      },
      "source": [
        "# Operadores de comparação\n",
        "\n",
        "print(1 == 2) # False\n",
        "print(1 != 2) # True\n",
        "print(1 < 2) # True\n",
        "print(1 > 2) # False\n",
        "print(1 >= 1) # True\n",
        "print(5 <= 5) # True"
      ],
      "execution_count": 10,
      "outputs": [
        {
          "output_type": "stream",
          "text": [
            "False\n",
            "True\n",
            "True\n",
            "False\n",
            "True\n",
            "True\n"
          ],
          "name": "stdout"
        }
      ]
    },
    {
      "cell_type": "code",
      "metadata": {
        "id": "XOkXPMP46bpJ"
      },
      "source": [
        ""
      ],
      "execution_count": null,
      "outputs": []
    },
    {
      "cell_type": "markdown",
      "metadata": {
        "id": "mP0XoCS_6eki"
      },
      "source": [
        "17 < 328: True\n",
        "\n",
        "100 == (2 * 50): True\n",
        "\n",
        "19 <= 19: True\n",
        "\n",
        "-22 >= -18: False\n",
        "\n",
        "99 != (98 + 1): False"
      ]
    },
    {
      "cell_type": "code",
      "metadata": {
        "id": "zzWBhgbY6vlD",
        "outputId": "d0f01bb2-3988-4b27-8781-3ec7e6933998",
        "colab": {
          "base_uri": "https://localhost:8080/",
          "height": 105
        }
      },
      "source": [
        "print(17 < 328)\n",
        "print(100 == (2 * 50))\n",
        "print(19 <= 19)\n",
        "print(-22 >= -18)\n",
        "print(99 != (98 + 1))"
      ],
      "execution_count": 15,
      "outputs": [
        {
          "output_type": "stream",
          "text": [
            "True\n",
            "True\n",
            "True\n",
            "False\n",
            "False\n"
          ],
          "name": "stdout"
        }
      ]
    },
    {
      "cell_type": "code",
      "metadata": {
        "id": "WRa5-nyT7D2P",
        "outputId": "cfee8c19-85b9-4343-9df3-898c36f88731",
        "colab": {
          "base_uri": "https://localhost:8080/",
          "height": 105
        }
      },
      "source": [
        "print((20 - 10) > 15) # False\n",
        "print((10 + 17) == 3 ** 16) # False\n",
        "print(1 ** 2 <= -1) # False\n",
        "print(40 * 4 >= -4) # True\n",
        "print(100 != 10 ** 2) # False"
      ],
      "execution_count": 16,
      "outputs": [
        {
          "output_type": "stream",
          "text": [
            "False\n",
            "False\n",
            "False\n",
            "True\n",
            "False\n"
          ],
          "name": "stdout"
        }
      ]
    },
    {
      "cell_type": "code",
      "metadata": {
        "id": "t0-LE13L7kc1",
        "outputId": "ead96111-6809-4a97-d83e-0ba67c59b610",
        "colab": {
          "base_uri": "https://localhost:8080/",
          "height": 87
        }
      },
      "source": [
        "print(\"Rei\" == \"Rei Arthur\") # False\n",
        "print(\"Rei\" != \"Rei Arthur\") # True\n",
        "print(1 == \"1\") # False, pois o tipo é diferente, um é inteiro e outro é string\n",
        "print(\"1\" == \"1\") # True"
      ],
      "execution_count": 21,
      "outputs": [
        {
          "output_type": "stream",
          "text": [
            "False\n",
            "True\n",
            "False\n",
            "True\n"
          ],
          "name": "stdout"
        }
      ]
    },
    {
      "cell_type": "code",
      "metadata": {
        "id": "ztZl3etD8f8j"
      },
      "source": [
        ""
      ],
      "execution_count": null,
      "outputs": []
    },
    {
      "cell_type": "markdown",
      "metadata": {
        "id": "IPSrY1V38iyF"
      },
      "source": [
        "# Atividade:\n",
        "\n",
        "Agora faremos o contrário. Declare variáveis que o resultado das comparações deve ser:\n",
        "\n",
        "```python\n",
        "True\n",
        "True\n",
        "False\n",
        "True\n",
        "False\n",
        "```"
      ]
    },
    {
      "cell_type": "code",
      "metadata": {
        "id": "550H3-6q8obF",
        "outputId": "935cdaab-6e8e-4a21-f68f-33c91267e694",
        "colab": {
          "base_uri": "https://localhost:8080/",
          "height": 105
        }
      },
      "source": [
        "print(1 == 1)\n",
        "print(2 != 3)\n",
        "print(2 != 2)\n",
        "print(\"p\" == \"p\")\n",
        "print(10 ** 2 == 20)"
      ],
      "execution_count": 24,
      "outputs": [
        {
          "output_type": "stream",
          "text": [
            "True\n",
            "True\n",
            "False\n",
            "True\n",
            "False\n"
          ],
          "name": "stdout"
        }
      ]
    },
    {
      "cell_type": "code",
      "metadata": {
        "id": "g3MDBZj89azP",
        "outputId": "dcce99a2-730a-4d87-d542-e8cc5dc8be39",
        "colab": {
          "base_uri": "https://localhost:8080/",
          "height": 105
        }
      },
      "source": [
        "# Operações de comparação - and - &&\n",
        "\n",
        "# And (&&): Todos os lados precisam ser True para que o resultado seja True\n",
        "# Not (!): Inverte o operador booleano, ou seja, False vira True e True vira False\n",
        "\n",
        "print(True and True) # True\n",
        "print(True and False) # False\n",
        "print(False and False) # False\n",
        "print(not (True and False)) # True\n",
        "print(not True and False) # False"
      ],
      "execution_count": 32,
      "outputs": [
        {
          "output_type": "stream",
          "text": [
            "True\n",
            "False\n",
            "False\n",
            "True\n",
            "False\n"
          ],
          "name": "stdout"
        }
      ]
    },
    {
      "cell_type": "code",
      "metadata": {
        "id": "1AjJ_azO_duG",
        "outputId": "1dcae1e5-f431-4957-b8db-2dc90b4536fb",
        "colab": {
          "base_uri": "https://localhost:8080/",
          "height": 105
        }
      },
      "source": [
        "# Or: Precisa que apenas um dos lados seja True\n",
        "\n",
        "print(True or True) # True\n",
        "print(True or False) # True\n",
        "print(False or False) # False\n",
        "print(not (False or True)) # False\n",
        "print(not False or True) # True"
      ],
      "execution_count": 35,
      "outputs": [
        {
          "output_type": "stream",
          "text": [
            "True\n",
            "True\n",
            "False\n",
            "False\n",
            "True\n"
          ],
          "name": "stdout"
        }
      ]
    },
    {
      "cell_type": "code",
      "metadata": {
        "id": "GA1WkOERAH0j",
        "outputId": "5d2bfff4-c41a-4f00-ae56-a87bf65aa7cd",
        "colab": {
          "base_uri": "https://localhost:8080/",
          "height": 122
        }
      },
      "source": [
        "print(not (not (True))) # True\n",
        "print(not True != (not False) or True == False) # True\n",
        "print(False != True and True) # True\n",
        "print(True != (not (not False)) and True) # True\n",
        "print(True or False or False) # True\n",
        "print(False or True and True and False) # False"
      ],
      "execution_count": 65,
      "outputs": [
        {
          "output_type": "stream",
          "text": [
            "True\n",
            "True\n",
            "True\n",
            "True\n",
            "True\n",
            "False\n"
          ],
          "name": "stdout"
        }
      ]
    },
    {
      "cell_type": "markdown",
      "metadata": {
        "id": "rtiUf-G1C7ml"
      },
      "source": [
        "# Ordem da Lógica Booleana\n",
        "\n",
        "Antes de tudo, resolvemos os operadores de comparação: `==`, `!=`, `<`, `>`, `<=` e `>=`.\n",
        "\n",
        "1. Primeiro resolvemos o `not`\n",
        "2. Depois, resolvemos o `and`\n",
        "3. Por último, resolvemos o `or`"
      ]
    },
    {
      "cell_type": "code",
      "metadata": {
        "id": "DwLtkPzoDqXz",
        "outputId": "ef426933-502f-41cf-f428-85746d65cf06",
        "colab": {
          "base_uri": "https://localhost:8080/",
          "height": 34
        }
      },
      "source": [
        "# if, elif e else\n",
        "\n",
        "# True == True -> True\n",
        "# False == True -> False\n",
        "# Para entrarmos no bloco do if, a condição precisa ser True\n",
        "# If representa \"se\", ou seja, \"se\" algo for verdadeiro\n",
        "# Else representa \"se não - ou - caso contrário\", ou seja, se a condição do if for false, o else será ativado\n",
        "\n",
        "admin = True\n",
        "\n",
        "if admin == True:\n",
        "  print(\"Acesso admin liberado.\")\n",
        "else:\n",
        "  print(\"Acesso bloqueado.\")"
      ],
      "execution_count": 69,
      "outputs": [
        {
          "output_type": "stream",
          "text": [
            "Acesso admin liberado.\n"
          ],
          "name": "stdout"
        }
      ]
    },
    {
      "cell_type": "code",
      "metadata": {
        "id": "0GANZYWiEoPo",
        "outputId": "a677defd-18d7-4f1e-fc91-a6a0dad2f0cc",
        "colab": {
          "base_uri": "https://localhost:8080/",
          "height": 34
        }
      },
      "source": [
        "#elif representa um: caso contrário, se\n",
        "\n",
        "numero = 5\n",
        "\n",
        "if numero > 5:\n",
        "  print(f\"O número {numero} é maior do que 5.\")\n",
        "elif numero > 0:\n",
        "  print(f\"O número {numero} é maior do que 0 e também é menor ou igual a 5.\")\n",
        "else:\n",
        "  print(f\"O número {numero} é menor ou igual a 0.\")"
      ],
      "execution_count": 86,
      "outputs": [
        {
          "output_type": "stream",
          "text": [
            "O número 5 é maior do que 0 e também é menor ou igual a 5.\n"
          ],
          "name": "stdout"
        }
      ]
    },
    {
      "cell_type": "code",
      "metadata": {
        "id": "wacN0V5cGFnf",
        "outputId": "2cc96203-81cd-4af1-e909-f772be630615",
        "colab": {
          "base_uri": "https://localhost:8080/",
          "height": 87
        }
      },
      "source": [
        "nome = \"Paulo\"\n",
        "\n",
        "if False:\n",
        "  print(\"IF\")\n",
        "elif False:\n",
        "  print(\"ELIF 1\")\n",
        "elif True:\n",
        "  print(\"ELIF 2\")\n",
        "else:\n",
        "  print(\"ELSE\")\n",
        "\n",
        "1 # Caixa azul (número inteiro)\n",
        "\"Texto\" # Caixa vermelha (texto)\n",
        "1.5 # Caixa verde (número decimal)\n",
        "True # Caixa rosa (booleano)\n",
        "\n",
        "variavel1 = True # Rosa\n",
        "variavel2 = 1 == 1 # Rosa\n",
        "variavel3 = True and True or not False # Rosa\n",
        "\n",
        "numero = 1\n",
        "print(True) # True\n",
        "print(1 == 1) # True\n",
        "print(numero == 1) # True"
      ],
      "execution_count": 102,
      "outputs": [
        {
          "output_type": "stream",
          "text": [
            "ELIF 2\n",
            "True\n",
            "True\n",
            "True\n"
          ],
          "name": "stdout"
        }
      ]
    },
    {
      "cell_type": "code",
      "metadata": {
        "id": "NBFSK155G2R0",
        "outputId": "5053c664-0424-40a8-d1f0-7d922f31c21e",
        "colab": {
          "base_uri": "https://localhost:8080/",
          "height": 34
        }
      },
      "source": [
        "numero = 10\n",
        "\n",
        "if numero > 5:\n",
        "  print(\"IF\")\n",
        "\n",
        "if not numero > 5 and numero > 0:\n",
        "  print(\"IF 2\")\n",
        "\n",
        "if not numero > 0:\n",
        "  print(\"IF 3\")\n",
        "\n",
        "\n",
        "if numero > 5:\n",
        "  print(\"IF\")\n",
        "elif numero > 0:\n",
        "  print(\"ELIF\")\n",
        "else:\n",
        "  print(\"ELSE\")"
      ],
      "execution_count": 97,
      "outputs": [
        {
          "output_type": "stream",
          "text": [
            "IF\n"
          ],
          "name": "stdout"
        }
      ]
    },
    {
      "cell_type": "code",
      "metadata": {
        "id": "qZlsqCAGJLY2"
      },
      "source": [
        "login = \"admin\"\n",
        "senha = \"admin\"\n",
        "\n",
        "# Buscar no banco de dados se existe algum usuário que possui o login 'admin' e a senha 'admin'\n",
        "# Se tiver, trago esse usuário.\n",
        "# Olho se o usuário possui a variável de administrador como True, se tiver, libero acesso à area restrita\n",
        "\n",
        "if login == \"admin\" and senha == \"admin\":\n",
        "  print(\"Admin conectado\")"
      ],
      "execution_count": null,
      "outputs": []
    },
    {
      "cell_type": "markdown",
      "metadata": {
        "id": "7RcV6edfJqMf"
      },
      "source": [
        "# Exercício 1\n",
        "\n",
        "Escreva um programa que receba uma string digitada pelo usuário e caso a string seja igual a “medieval”, exiba no console: “espada”;\n",
        "\n",
        "Caso contrário, se a string for igual a “futurista”, exiba no console: “sabre de luz”;\n",
        "\n",
        "Caso contrário, exiba no console: “Tente novamente.”.\n"
      ]
    },
    {
      "cell_type": "code",
      "metadata": {
        "id": "6vqwHz1WNn46",
        "outputId": "ab29d032-28a6-49d1-efaf-12dfefe626c8",
        "colab": {
          "base_uri": "https://localhost:8080/",
          "height": 70
        }
      },
      "source": [
        "escolha_usuario = input(\"Por acaso você é *futurista* ou tá mais pra *medieval*?\\n\").lower().strip()\n",
        "\n",
        "if \"medieval\" in escolha_usuario:\n",
        "  print(\"Você recebeu uma espada!\")\n",
        "elif \"futur\" in escolha_usuario:\n",
        "  print(\"Você recebeu um sabre de luz!\")\n",
        "else:\n",
        "  print(\"Tente novamente...\")"
      ],
      "execution_count": 123,
      "outputs": [
        {
          "output_type": "stream",
          "text": [
            "Por acaso você é *futurista* ou tá mais pra *medieval*?\n",
            "EU SOU O REI DO FUTURO!!!! AHAHAHHAHA\n",
            "Você recebeu um sabre de luz!\n"
          ],
          "name": "stdout"
        }
      ]
    }
  ]
}